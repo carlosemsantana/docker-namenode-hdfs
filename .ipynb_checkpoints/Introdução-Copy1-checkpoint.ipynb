{
 "cells": [
  {
   "cell_type": "markdown",
   "id": "304d8034",
   "metadata": {},
   "source": [
    "O NameNode, armazena os metadados dos arquivos (componente central do HDFS)"
   ]
  },
  {
   "cell_type": "markdown",
   "id": "1cc700e2",
   "metadata": {},
   "source": [
    "# Apache Hadoop"
   ]
  },
  {
   "cell_type": "markdown",
   "id": "2ad0516b",
   "metadata": {},
   "source": [
    "\"O projeto Apache™ Hadoop® desenvolve software de código aberto para computação distribuída confiável, escalável.\n",
    "A biblioteca de software Apache Hadoop é uma estrutura que permite o processamento distribuído de grandes conjuntos de dados em clusters de computadores usando modelos de programação simples. Ele foi projetado para escalar de servidores únicos para milhares de máquinas, cada uma oferecendo computação e armazenamento locais. Em vez de depender de hardware para fornecer alta disponibilidade, a própria biblioteca foi projetada para detectar e lidar com falhas na camada de aplicação, fornecendo um serviço altamente disponível em um cluster de computadores, cada um dos quais pode estar propenso a falhas.\"\n",
    "\n",
    "https://hadoop.apache.org/\n"
   ]
  },
  {
   "cell_type": "code",
   "execution_count": null,
   "id": "685e0b09",
   "metadata": {},
   "outputs": [],
   "source": []
  },
  {
   "cell_type": "markdown",
   "id": "17c15c92",
   "metadata": {},
   "source": [
    "# Dados"
   ]
  },
  {
   "cell_type": "markdown",
   "id": "12fbeccd",
   "metadata": {},
   "source": [
    "Pensando na taxa de crescimento dos dados, como os dados foram armazenados, processados, consultados e analisados?\n",
    "Arquitetura montada é escalável?"
   ]
  },
  {
   "cell_type": "markdown",
   "id": "08b4915f",
   "metadata": {},
   "source": [
    "# Categorias"
   ]
  },
  {
   "cell_type": "markdown",
   "id": "959634e5",
   "metadata": {},
   "source": [
    "Pensando em Big Data, precisamos considerar: Volume, Velocidade, Variedade, Veracidade, Valor, Variabilidade, \n",
    "Validade, Vulnerabilidade, Volatilidade e Visualização..."
   ]
  },
  {
   "cell_type": "markdown",
   "id": "07d09d31",
   "metadata": {},
   "source": [
    "# Arquitetura"
   ]
  },
  {
   "cell_type": "markdown",
   "id": "e1746b0e",
   "metadata": {},
   "source": [
    "Crescimento Vertical (tecnologia) ou Horizontal (equipamentos)? em Big Data usamos arquitetura Horizontal \n",
    "* Armazenar, processar e analizar os dados."
   ]
  },
  {
   "cell_type": "markdown",
   "id": "f1420d22",
   "metadata": {},
   "source": [
    "### HDFS\n",
    "\n",
    "O Hadoop armazena os dados no HDFS, dividindo os dados em blocos de 128MB. (Ex. um aquivo de 500 MB seria dividido em 3 partes de 128Mb e um bloco teria 116MB) e cada bloco será armazenado em 3 cópias.\n",
    "\n",
    "### Arquitetura Mestre (NameNode) / Escravo (DataNode)\n",
    "\n",
    "* O NameNode, armazena os metadados dos arquivos (componente central do HDFS)\n",
    "* O DataNode, armazena os dados"
   ]
  },
  {
   "cell_type": "markdown",
   "id": "7a338470",
   "metadata": {},
   "source": [
    "### Map Reduce"
   ]
  },
  {
   "cell_type": "markdown",
   "id": "7eedc7fb",
   "metadata": {},
   "source": [
    "MapReduce é o responsável pelo processamento. Recebe uma tarefa, divide em blocos, que são um conjunto de tarefas independentes,que vão realizar vários processos. (Split, Map, Shuffle e Reduce)\n",
    "\n",
    "Quando um job é executado, o Jobtracker agenda, monitora e coordena todas as tarefas executadas no sistema e os vários Tasktracker, executam as tarefas e enviam relatórios de progresso para o Jobtracker. \n",
    "\n",
    "Quando um Job é executado  em um cluster HDFS o Namenode, armazena os metadados e os Datanodes armazenam os dados que serão copiados em 3 nós de forma distribuída. Os Jobs de Map Reduce são executados, no processamento o Jobtracker agenda, monitora e coordena todas as tarefas executadas e os Tasktracker, executam as tarefas e enviam relatórios de progresso ao Jobtracker.\n",
    "\n",
    "O HDFS é o responsável pelo armazenamento e o Map Reduce pelo processamento dos dados.\n",
    "\n"
   ]
  },
  {
   "cell_type": "markdown",
   "id": "66a91c64",
   "metadata": {},
   "source": [
    "# Yarn\n",
    "\n",
    "É um gerenciador de recursos que oferece paralelismo de tarefas, divide as funcionalidades de gerenciamento de recursos e agendamento/ monitoramento de tarefas em daemons separados.\n",
    "\n",
    "É uma evolução implementada no Hadoop 2 "
   ]
  },
  {
   "cell_type": "code",
   "execution_count": null,
   "id": "4a9434f4",
   "metadata": {},
   "outputs": [],
   "source": []
  }
 ],
 "metadata": {
  "kernelspec": {
   "display_name": "Python 3 (ipykernel)",
   "language": "python",
   "name": "python3"
  },
  "language_info": {
   "codemirror_mode": {
    "name": "ipython",
    "version": 3
   },
   "file_extension": ".py",
   "mimetype": "text/x-python",
   "name": "python",
   "nbconvert_exporter": "python",
   "pygments_lexer": "ipython3",
   "version": "3.9.7"
  }
 },
 "nbformat": 4,
 "nbformat_minor": 5
}
